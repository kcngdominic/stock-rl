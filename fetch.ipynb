{
  "cells": [
    {
      "cell_type": "code",
      "source": [
        "# Run this command in your terminal or Jupyter Notebook cell\n",
        "# !pip install yfinance\n",
        "\n",
        "import yfinance as yf\n",
        "\n",
        "# For Australian stocks remember to add '.AX' at the end\n",
        "# List of all australian symbols with market cap over 2B on EOD 2024-08-11\n",
        "\n",
        "def get_all_tickers():\n",
        "  symbols = [\"CBA.AX\", \"BHP.AX\", \"CSL.AX\", \"NAB.AX\", \"WBC.AX\", \"ANZ.AX\", \"WES.AX\", \"MQG.AX\", \"FMG.AX\", \"WDS.AX\", \"TLS.AX\", \"RIO.AX\", \"WOW.AX\", \"ALL.AX\", \"WTC.AX\", \"REA.AX\", \"STO.AX\", \"COL.AX\", \"QBE.AX\", \"COH.AX\", \"JHX.AX\", \"SUN.AX\", \"BXB.AX\", \"RMD.AX\", \"XRO.AX\", \"ORG.AX\", \"FPH.AX\", \"IAG.AX\", \"REH.AX\", \"NST.AX\", \"CPU.AX\", \"SVW.AX\", \"PME.AX\", \"S32.AX\", \"SHL.AX\", \"CAR.AX\", \"ASX.AX\", \"SOL.AX\", \"TLC.AX\", \"MPL.AX\", \"RHC.AX\", \"MIN.AX\", \"NEM.AX\", \"AIA.AX\", \"AMC.AX\", \"QAN.AX\", \"EDV.AX\", \"TWE.AX\", \"IFT.AX\", \"NXT.AX\", \"AFI.AX\", \"YAL.AX\", \"PLS.AX\", \"BSL.AX\", \"ORI.AX\", \"TPG.AX\", \"SEK.AX\", \"GQG.AX\", \"ALD.AX\", \"EVN.AX\", \"WOR.AX\", \"JBH.AX\", \"ALQ.AX\", \"AGL.AX\", \"SPK.AX\", \"SDF.AX\", \"TNE.AX\", \"BEN.AX\", \"ARG.AX\", \"AZJ.AX\", \"QUB.AX\", \"EBO.AX\", \"WHC.AX\", \"CWY.AX\", \"TLX.AX\", \"HVN.AX\", \"LYC.AX\", \"IPL.AX\", \"NWL.AX\", \"VEA.AX\", \"A2M.AX\", \"PMV.AX\", \"CGF.AX\", \"FLT.AX\", \"NHC.AX\", \"BKW.AX\", \"IEL.AX\", \"BOQ.AX\", \"SQ2.AX\", \"BRG.AX\", \"HUB.AX\", \"360.AX\", \"IGO.AX\", \"MTS.AX\", \"ANN.AX\", \"AUB.AX\", \"SFR.AX\", \"AAI.AX\", \"VNT.AX\", \"RWC.AX\", \"LOV.AX\", \"LNW.AX\", \"NHF.AX\", \"PNI.AX\", \"SUL.AX\", \"AMP.AX\", \"NIC.AX\", \"PRU.AX\", \"DOW.AX\", \"ARB.AX\", \"BPT.AX\", \"WEB.AX\", \"CNU.AX\", \"CIA.AX\", \"GYG.AX\", \"SMR.AX\", \"PDN.AX\", \"HMC.AX\", \"DMP.AX\", \"DEG.AX\", \"APE.AX\", \"WGX.AX\", \"ORA.AX\", \"ILU.AX\", \"RED.AX\", \"PXA.AX\", \"PPT.AX\", \"EMR.AX\", \"GMD.AX\", \"CRN.AX\", \"ZIP.AX\", \"PSI.AX\", \"NEC.AX\", \"RMS.AX\", \"CMM.AX\", \"CDA.AX\", \"LTR.AX\", \"VUK.AX\", \"NEU.AX\", \"DRR.AX\",]\n",
        "  return yf.Tickers(symbols)\n",
        "\n",
        "tickers = get_all_tickers()\n",
        "print(tickers)"
      ],
      "metadata": {
        "id": "Wg4ChhlwrUC0"
      },
      "execution_count": 6,
      "outputs": []
    },
    {
      "cell_type": "code",
      "source": [
        "# prompt: define a function that check the validity of all tickers in \"tickers\" by checking if \"underlyingSymbol\" exist in their info, and then output a list of valid tickers. use try catch in cause there is a 404 exception\n",
        "\n",
        "def check_tickers(tickers):\n",
        "  \"\"\"Check the validity of all tickers in a list of tickers.\n",
        "\n",
        "  Args:\n",
        "    tickers: A list of tickers.\n",
        "\n",
        "  Returns:\n",
        "    A list of valid tickers.\n",
        "\n",
        "  \"\"\"\n",
        "  valid_tickers = []\n",
        "  for ticker in tickers.tickers:\n",
        "    try:\n",
        "      info = ticker.info\n",
        "      if 'underlyingSymbol' in info:\n",
        "        valid_tickers.append(ticker.ticker)\n",
        "    except:\n",
        "      pass\n",
        "  return valid_tickers\n",
        "\n",
        "valid_tickers = check_tickers(tickers)\n",
        "print(valid_tickers)\n"
      ],
      "metadata": {
        "id": "_RBDq1Mp639G"
      },
      "execution_count": null,
      "outputs": []
    },
    {
      "cell_type": "code",
      "source": [
        "# prompt: define a function that Get the stock data for all tickers from 1970-01-01 to today, parametrize start and end date\n",
        "\n",
        "import yfinance as yf\n",
        "import pandas as pd\n",
        "\n",
        "def get_stock_data(tickers, start_date='1970-01-01', end_date=pd.Timestamp.today().strftime('%Y-%m-%d')):\n",
        "  \"\"\"Get the stock data for a list of tickers from a start date to today.\n",
        "\n",
        "  Args:\n",
        "    tickers: A list of tickers.\n",
        "    start_date: The start date for the data.\n",
        "    end_date: The end date for the data.\n",
        "\n",
        "  Returns:\n",
        "    A pandas DataFrame containing the stock data.\n",
        "  \"\"\"\n",
        "  data = yf.download(tickers=tickers, start=start_date, end=end_date)\n",
        "  return data\n",
        "\n",
        "data = get_stock_data(valid_tickers)\n",
        "print(data.head())"
      ],
      "metadata": {
        "collapsed": true,
        "colab": {
          "base_uri": "https://localhost:8080/"
        },
        "id": "rlCzmZGw7xxT",
        "outputId": "9f4a2f5e-3338-49a3-f546-dc912457bbe2"
      },
      "execution_count": 60,
      "outputs": [
        {
          "output_type": "stream",
          "name": "stderr",
          "text": [
            "[*********************100%%**********************]  140 of 140 completed\n"
          ]
        },
        {
          "output_type": "stream",
          "name": "stdout",
          "text": [
            "Price      Adj Close                                                      \\\n",
            "Ticker        360.AX A2M.AX AAI.AX AFI.AX AGL.AX AIA.AX    ALD.AX ALL.AX   \n",
            "Date                                                                       \n",
            "1988-01-29       NaN    NaN    NaN    NaN    NaN    NaN  0.574315    NaN   \n",
            "1988-02-01       NaN    NaN    NaN    NaN    NaN    NaN  0.574315    NaN   \n",
            "1988-02-02       NaN    NaN    NaN    NaN    NaN    NaN  0.574315    NaN   \n",
            "1988-02-03       NaN    NaN    NaN    NaN    NaN    NaN  0.574315    NaN   \n",
            "1988-02-04       NaN    NaN    NaN    NaN    NaN    NaN  0.574315    NaN   \n",
            "\n",
            "Price                           ... Volume                                     \\\n",
            "Ticker        ALQ.AX    AMC.AX  ... WEB.AX WES.AX WGX.AX WHC.AX WOR.AX WOW.AX   \n",
            "Date                            ...                                             \n",
            "1988-01-29  0.056859  0.313313  ...    NaN    0.0    NaN    NaN    NaN    NaN   \n",
            "1988-02-01  0.056859  0.313313  ...    NaN    0.0    NaN    NaN    NaN    NaN   \n",
            "1988-02-02  0.056859  0.313313  ...    NaN    0.0    NaN    NaN    NaN    NaN   \n",
            "1988-02-03  0.056859  0.313313  ...    NaN    0.0    NaN    NaN    NaN    NaN   \n",
            "1988-02-04  0.056859  0.313313  ...    NaN    0.0    NaN    NaN    NaN    NaN   \n",
            "\n",
            "Price                                   \n",
            "Ticker     WTC.AX XRO.AX YAL.AX ZIP.AX  \n",
            "Date                                    \n",
            "1988-01-29    NaN    NaN    NaN    NaN  \n",
            "1988-02-01    NaN    NaN    NaN    NaN  \n",
            "1988-02-02    NaN    NaN    NaN    NaN  \n",
            "1988-02-03    NaN    NaN    NaN    NaN  \n",
            "1988-02-04    NaN    NaN    NaN    NaN  \n",
            "\n",
            "[5 rows x 840 columns]\n"
          ]
        }
      ]
    },
    {
      "cell_type": "code",
      "source": [
        "# prompt: using h5py, define a function that store the dataframe on my hard drive. in the case where a filename already exists, remove the old file\n",
        "\n",
        "import h5py\n",
        "\n",
        "def save_dataframe_to_h5(dataframe, filename):\n",
        "  \"\"\"Saves a pandas DataFrame to an HDF5 file.\n",
        "\n",
        "  Args:\n",
        "    dataframe: The pandas DataFrame to save.\n",
        "    filename: The name of the HDF5 file to create.\n",
        "  \"\"\"\n",
        "  try:\n",
        "    # Check if the file already exists and remove it\n",
        "    if os.path.exists(filename):\n",
        "      os.remove(filename)\n",
        "      print(f\"Existing file '{filename}' removed.\")\n",
        "\n",
        "    # Save the DataFrame to the HDF5 file\n",
        "    with h5py.File(filename, 'w') as hf:\n",
        "      hf.create_dataset('data', data=dataframe.to_numpy())\n",
        "    print(f\"DataFrame saved to '{filename}'.\")\n",
        "\n",
        "  except Exception as e:\n",
        "    print(f\"Error saving DataFrame: {e}\")\n",
        "\n",
        "# Example usage:\n",
        "save_dataframe_to_h5(data, 'stock_data.h5')\n"
      ],
      "metadata": {
        "colab": {
          "base_uri": "https://localhost:8080/"
        },
        "id": "zgpiHjOO41HD",
        "outputId": "4e3aa86d-21a5-4ec0-e2f7-380e101c0ef1"
      },
      "execution_count": 63,
      "outputs": [
        {
          "output_type": "stream",
          "name": "stdout",
          "text": [
            "DataFrame saved to 'stock_data.h5'.\n"
          ]
        }
      ]
    },
    {
      "cell_type": "code",
      "source": [
        "# prompt: using pickle, define a function that store the columns and row index of the dataframe\n",
        "\n",
        "import pickle\n",
        "\n",
        "def store_dataframe_index(dataframe, filename):\n",
        "  \"\"\"Stores the columns and row index of a pandas DataFrame using pickle.\n",
        "\n",
        "  Args:\n",
        "    dataframe: The pandas DataFrame.\n",
        "    filename: The name of the file to store the index information.\n",
        "\n",
        "  Remarks:\n",
        "    The stored object contains these keys: 'columns', 'index'.\n",
        "  \"\"\"\n",
        "  index_info = {\n",
        "      'columns': dataframe.columns,\n",
        "      'index': dataframe.index\n",
        "  }\n",
        "  with open(filename, 'wb') as f:\n",
        "    pickle.dump(index_info, f)\n",
        "  print(f\"DataFrame index information saved to '{filename}'.\")\n",
        "\n",
        "# Example usage:\n",
        "store_dataframe_index(data, 'stock_data_index.pkl')\n"
      ],
      "metadata": {
        "colab": {
          "base_uri": "https://localhost:8080/"
        },
        "id": "WJUGzupl4KqX",
        "outputId": "80c1b4f1-5ec9-40f3-ef6c-9bbc5682c1a7"
      },
      "execution_count": 64,
      "outputs": [
        {
          "output_type": "stream",
          "name": "stdout",
          "text": [
            "DataFrame index information saved to 'stock_data_index.pkl'.\n"
          ]
        }
      ]
    },
    {
      "cell_type": "code",
      "source": [
        "# prompt: define a function that read the data from filename into a variable data2, and then restore the column names and row index from stock_data_index.pkl\n",
        "\n",
        "import pandas as pd\n",
        "def load_dataframe_from_h5(filename, index_filename):\n",
        "  \"\"\"Loads a pandas DataFrame from an HDF5 file and restores its index.\n",
        "\n",
        "  Args:\n",
        "    filename: The name of the HDF5 file containing the DataFrame data.\n",
        "    index_filename: The name of the file containing the DataFrame index information.\n",
        "\n",
        "  Returns:\n",
        "    The loaded pandas DataFrame with restored index.\n",
        "  \"\"\"\n",
        "  try:\n",
        "    # Load the DataFrame data from the HDF5 file\n",
        "    with h5py.File(filename, 'r') as hf:\n",
        "      data2 = pd.DataFrame(hf['data'][:])\n",
        "\n",
        "    # Load the index information from the pickle file\n",
        "    with open(index_filename, 'rb') as f:\n",
        "      index_info = pickle.load(f)\n",
        "\n",
        "    # Restore the column names and row index\n",
        "    data2.columns = index_info['columns']\n",
        "    data2.index = index_info['index']\n",
        "\n",
        "    print(f\"DataFrame loaded from '{filename}' with restored index.\")\n",
        "    return data2\n",
        "\n",
        "  except Exception as e:\n",
        "    print(f\"Error loading DataFrame: {e}\")\n",
        "    return None\n",
        "\n",
        "# Example usage:\n",
        "data2 = load_dataframe_from_h5('stock_data.h5', 'stock_data_index.pkl')\n",
        "print(data2.head())"
      ],
      "metadata": {
        "collapsed": true,
        "colab": {
          "base_uri": "https://localhost:8080/"
        },
        "id": "a-nrLkDw4Ypl",
        "outputId": "5db1da7c-59d0-4810-aa68-789c5cd75f71"
      },
      "execution_count": 55,
      "outputs": [
        {
          "output_type": "stream",
          "name": "stdout",
          "text": [
            "DataFrame loaded from 'stock_data.h5' with restored index.\n",
            "Price      Adj Close                                                      \\\n",
            "Ticker        360.AX A2M.AX AAI.AX AFI.AX AGL.AX AIA.AX    ALD.AX ALL.AX   \n",
            "Date                                                                       \n",
            "1988-01-29       NaN    NaN    NaN    NaN    NaN    NaN  0.574315    NaN   \n",
            "1988-02-01       NaN    NaN    NaN    NaN    NaN    NaN  0.574315    NaN   \n",
            "1988-02-02       NaN    NaN    NaN    NaN    NaN    NaN  0.574315    NaN   \n",
            "1988-02-03       NaN    NaN    NaN    NaN    NaN    NaN  0.574315    NaN   \n",
            "1988-02-04       NaN    NaN    NaN    NaN    NaN    NaN  0.574315    NaN   \n",
            "\n",
            "Price                           ... Volume                                     \\\n",
            "Ticker        ALQ.AX    AMC.AX  ... WEB.AX WES.AX WGX.AX WHC.AX WOR.AX WOW.AX   \n",
            "Date                            ...                                             \n",
            "1988-01-29  0.056859  0.313313  ...    NaN    0.0    NaN    NaN    NaN    NaN   \n",
            "1988-02-01  0.056859  0.313313  ...    NaN    0.0    NaN    NaN    NaN    NaN   \n",
            "1988-02-02  0.056859  0.313313  ...    NaN    0.0    NaN    NaN    NaN    NaN   \n",
            "1988-02-03  0.056859  0.313313  ...    NaN    0.0    NaN    NaN    NaN    NaN   \n",
            "1988-02-04  0.056859  0.313313  ...    NaN    0.0    NaN    NaN    NaN    NaN   \n",
            "\n",
            "Price                                   \n",
            "Ticker     WTC.AX XRO.AX YAL.AX ZIP.AX  \n",
            "Date                                    \n",
            "1988-01-29    NaN    NaN    NaN    NaN  \n",
            "1988-02-01    NaN    NaN    NaN    NaN  \n",
            "1988-02-02    NaN    NaN    NaN    NaN  \n",
            "1988-02-03    NaN    NaN    NaN    NaN  \n",
            "1988-02-04    NaN    NaN    NaN    NaN  \n",
            "\n",
            "[5 rows x 840 columns]\n"
          ]
        }
      ]
    },
    {
      "cell_type": "code",
      "source": [
        "# prompt: define a function that create the folder /stock-rl in my google drive if it doesn't already exist. paramatrize the name of the folder\n",
        "\n",
        "import os\n",
        "from google.colab import drive\n",
        "drive.mount('/content/drive')\n",
        "\n",
        "def create_folder_in_drive(folder_name):\n",
        "  \"\"\"Creates a folder in Google Drive if it doesn't exist.\n",
        "\n",
        "  Args:\n",
        "    folder_name: The name of the folder to create.\n",
        "  \"\"\"\n",
        "  drive_path = '/content/drive/My Drive/'  # Root directory in Google Drive\n",
        "  folder_path = os.path.join(drive_path, folder_name)\n",
        "\n",
        "  if not os.path.exists(folder_path):\n",
        "    os.makedirs(folder_path)\n",
        "    print(f\"Folder '{folder_name}' created in Google Drive.\")\n",
        "  else:\n",
        "    print(f\"Folder '{folder_name}' already exists in Google Drive.\")\n",
        "\n",
        "# Example usage:\n",
        "create_folder_in_drive('stock-rl')\n"
      ],
      "metadata": {
        "colab": {
          "base_uri": "https://localhost:8080/"
        },
        "id": "muFjIbTD6HzQ",
        "outputId": "97c9a167-722a-4c40-b1f0-3dd6ac5ed6b8"
      },
      "execution_count": 56,
      "outputs": [
        {
          "output_type": "stream",
          "name": "stdout",
          "text": [
            "Drive already mounted at /content/drive; to attempt to forcibly remount, call drive.mount(\"/content/drive\", force_remount=True).\n",
            "Folder 'stock-rl' already exists in Google Drive.\n"
          ]
        }
      ]
    },
    {
      "cell_type": "code",
      "source": [
        "# prompt: define a function that store stock_data.h5 and columns.pkl into my google drive, under the folder /stock-rl. if the file already exists in the google drive, remove the old file. parametrize the path name\n",
        "\n",
        "def save_to_drive(local_filename, drive_filename, drive_folder='/stock-rl'):\n",
        "  \"\"\"Saves a local file to Google Drive, overwriting if it exists.\n",
        "\n",
        "  Args:\n",
        "    local_filename: Path to the local file.\n",
        "    drive_filename: Name of the file in Google Drive.\n",
        "    drive_folder: Folder in Google Drive to save to (default: '/stock-rl').\n",
        "  \"\"\"\n",
        "  drive_path = '/content/drive/My Drive/' + drive_folder + '/' + drive_filename\n",
        "\n",
        "  if not os.path.exists(local_filename):\n",
        "    print(f\"Local file '{local_filename}' does not exist.\")\n",
        "    return\n",
        "\n",
        "  if os.path.exists(drive_path):\n",
        "    os.remove(drive_path)\n",
        "    print(f\"Existing file '{drive_filename}' removed from Google Drive.\")\n",
        "\n",
        "  !cp \"{local_filename}\" \"{drive_path}\"\n",
        "  print(f\"File '{local_filename}' saved to Google Drive as '{drive_filename}'.\")\n",
        "\n",
        "# Example usage:\n",
        "save_to_drive('stock_data.h5', 'stock_data.h5')\n",
        "save_to_drive('stock_data_index.pkl', 'stock_data_index.pkl')\n"
      ],
      "metadata": {
        "colab": {
          "base_uri": "https://localhost:8080/"
        },
        "id": "d9ejDTAw6Eoj",
        "outputId": "f4a68ec5-f517-472e-a394-aa1830c15594"
      },
      "execution_count": 66,
      "outputs": [
        {
          "output_type": "stream",
          "name": "stdout",
          "text": [
            "Local file 'stock_data.h5' does not exist.\n",
            "Local file 'stock_data_index.pkl' does not exist.\n"
          ]
        }
      ]
    },
    {
      "cell_type": "code",
      "source": [
        "# prompt: define a function that get the file from google drive to local drive, under the folder /stock-rl. if the file already exists in the local drive, remove the old file. parametrize the file name and path name. do not change the name of the file\n",
        "\n",
        "def get_from_drive(drive_filename, local_filename, drive_folder='/stock-rl'):\n",
        "  \"\"\"Gets a file from Google Drive to the local drive, overwriting if it exists.\n",
        "\n",
        "  Args:\n",
        "    drive_filename: Name of the file in Google Drive.\n",
        "    local_filename: Path to save the file locally.\n",
        "    drive_folder: Folder in Google Drive to get from (default: '/stock-rl').\n",
        "  \"\"\"\n",
        "  drive_path = '/content/drive/My Drive/' + drive_folder + '/' + drive_filename\n",
        "\n",
        "  if not os.path.exists(drive_path):\n",
        "    print(f\"File '{drive_filename}' does not exist in Google Drive.\")\n",
        "    return\n",
        "\n",
        "  if os.path.exists(local_filename):\n",
        "    os.remove(local_filename)\n",
        "    print(f\"Existing local file '{local_filename}' removed.\")\n",
        "\n",
        "  !cp \"{drive_path}\" \"{local_filename}\"\n",
        "  print(f\"File '{drive_filename}' retrieved from Google Drive to '{local_filename}'.\")\n",
        "\n",
        "# Example usage:\n",
        "get_from_drive('stock_data.h5', 'stock_data.h5')\n",
        "get_from_drive('stock_data_index.pkl', 'stock_data_index.pkl')\n"
      ],
      "metadata": {
        "id": "KE5xW6zj9NUm",
        "outputId": "623c0ce6-ab11-40bf-a054-363fcaa77452",
        "colab": {
          "base_uri": "https://localhost:8080/"
        }
      },
      "execution_count": 67,
      "outputs": [
        {
          "output_type": "stream",
          "name": "stdout",
          "text": [
            "File 'stock_data.h5' retrieved from Google Drive to 'stock_data.h5'.\n",
            "File 'stock_data_index.pkl' retrieved from Google Drive to 'stock_data_index.pkl'.\n"
          ]
        }
      ]
    }
  ],
  "metadata": {
    "language_info": {
      "name": "python"
    },
    "colab": {
      "provenance": []
    },
    "kernelspec": {
      "name": "python3",
      "display_name": "Python 3"
    }
  },
  "nbformat": 4,
  "nbformat_minor": 0
}
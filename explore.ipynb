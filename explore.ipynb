{
 "cells": [
  {
   "cell_type": "code",
   "execution_count": null,
   "metadata": {},
   "outputs": [],
   "source": [
    "# Step 1: Install yfinance\n",
    "# Run this command in your terminal or Jupyter Notebook cell\n",
    "# !pip install yfinance\n",
    "\n",
    "import yfinance as yf\n",
    "import datetime"
   ]
  },
  {
   "cell_type": "code",
   "execution_count": null,
   "metadata": {},
   "outputs": [],
   "source": [
    "# Step 1: Define a list of ticker symbols\n",
    "ticker_symbols = [\"AAPL\", \"MSFT\", \"GOOGL\", \"AMZN\", \"FB\"]  # Example list of symbols\n",
    "\n",
    "# Step 2: Initialize the yf.Tickers object with the list of ticker symbols\n",
    "all_symbols = yf.Tickers(ticker_symbols)\n",
    "\n",
    "# Step 3: List all symbols\n",
    "symbol_list = all_symbols.tickers\n",
    "\n",
    "# Step 4: Display the symbol list\n",
    "print(symbol_list)"
   ]
  },
  {
   "cell_type": "code",
   "execution_count": null,
   "metadata": {},
   "outputs": [],
   "source": [
    "# Step 1: Define the stock symbol\n",
    "stock_symbol = \"GOOGL\"\n",
    "\n",
    "# Step 2: Initialize the yf.Ticker object with the stock symbol\n",
    "stock = yf.Ticker(stock_symbol)\n",
    "\n",
    "# Step 3: Print the description and information about the company\n",
    "print(stock.info)"
   ]
  },
  {
   "cell_type": "code",
   "execution_count": null,
   "metadata": {},
   "outputs": [],
   "source": [
    "# Define the start and end dates, in strings\n",
    "start_date = (datetime.datetime.now() - datetime.timedelta(days=7)).strftime(\"%Y-%m-%d\")\n",
    "end_date = datetime.datetime.now().strftime(\"%Y-%m-%d\")\n",
    "\n",
    "# Define the stock symbol\n",
    "stock_symbol = \"GOOGL\"\n",
    "\n",
    "# Use yfinance to get the stock data\n",
    "# stock_data is a DataFrame\n",
    "stock_data = yf.download(stock_symbol, start=start_date, end=end_date)\n",
    "\n",
    "# Display the stock data\n",
    "stock_data.head()"
   ]
  },
  {
   "cell_type": "code",
   "execution_count": null,
   "metadata": {},
   "outputs": [],
   "source": [
    "# Get australian stock by adding .ax\n",
    "print(yf.Ticker(\"CBA.ax\").info)"
   ]
  }
 ],
 "metadata": {
  "language_info": {
   "name": "python"
  }
 },
 "nbformat": 4,
 "nbformat_minor": 2
}
